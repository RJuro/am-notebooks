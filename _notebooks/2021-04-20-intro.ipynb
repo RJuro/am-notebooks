{
 "cells": [
  {
   "cell_type": "markdown",
   "metadata": {
    "id": "gUEGZLwQq0Vl"
   },
   "source": [
    "# \"Intro til Anvendt Matematik og Python opfriskning\"\n",
    "> \"19 April 2021 - HA-AAUBS\"\n",
    "\n",
    "- toc: true\n",
    "- branch: master\n",
    "- badges: true\n",
    "- comments: false\n",
    "- author: Roman Jurowetzki\n",
    "- categories: [intro, forelæsning]"
   ]
  },
  {
   "cell_type": "markdown",
   "metadata": {
    "id": "xiOWOHbyqVa1"
   },
   "source": [
    "# Intro til Anvendt Matematik og Python opfriskning\n",
    "\n",
    "\n",
    "- Matematik bruges i finance, økonomistyring, data science, tech og meget andet - men også helt sikkert senere hvis I skal videre med en kandidat.\n",
    "- Analytiske skills er meget [eftertragtede på arbejdsmarkedet](https://youtu.be/u2oupkbxddc \n",
    ") \n",
    "> [Ny DI-analyse viser](https://www.danskindustri.dk/tech-der-taller/analysearkiv/analyser/2020/10/kompetencer-til-et-digitalt-arbejdsliv/), at den digitale omstilling i virksomheder ikke kan drives af it-specialisterne alene. Der er i stærkt stigende omfang behov for, at samfundsvidenskabelige profiler også har gode digitale kompetencer.\n"
   ]
  },
  {
   "cell_type": "markdown",
   "metadata": {
    "id": "zkpGMgOTr1eT"
   },
   "source": [
    "### Hvad sker her fra idag til 21 Juni?\n",
    "\n",
    "- overblik over linkeær algebra og calculus (ikke meget mere end B niveau)\n",
    "- Brug gerne fx https://www.webmatematik.dk/ \n",
    "- $\\LaTeX$ [cheat-sheet](http://tug.ctan.org/info/undergradmath/undergradmath.pdf)\n",
    "- [Markdown cheatsheet](https://www.markdownguide.org/cheat-sheet/)\n",
    "- Lære at **bruge** matematik - ikke være matematiker¨\n",
    "- lære fra et data/computer science perspektiv, hvor det handler mest at kunne implementere matematik direkte og bruge til fx at bygge en søgemaskine, recommender system, visualisere eller automatisere BI \n",
    "- \"computational tilgang\" - Python som tool\n",
    "- Danglish"
   ]
  },
  {
   "cell_type": "markdown",
   "metadata": {
    "id": "gsygonndQP7f"
   },
   "source": [
    "### Pingvin Motivation og Intuition - Fra Data og Statistik til Liniær Algebra"
   ]
  },
  {
   "cell_type": "markdown",
   "metadata": {
    "id": "PPHyBrDOHJBv"
   },
   "source": [
    "Pingvin data: https://github.com/allisonhorst/palmerpenguins\n",
    "![](https://github.com/allisonhorst/palmerpenguins/raw/master/man/figures/lter_penguins.png)\n",
    "\n",
    "Vi bygger en søgemaskine til pingviner 🤔\n",
    "\n",
    "Antagelse:\n",
    "- Pingviner kan bedst lide at være sammen med dem, der ligner dem mest\n"
   ]
  },
  {
   "cell_type": "code",
   "execution_count": 1,
   "metadata": {
    "id": "GZ40xDOXNau-"
   },
   "outputs": [],
   "source": [
    "import pandas as pd\n",
    "import numpy as np\n",
    "\n",
    "np.set_printoptions(suppress=True)\n",
    "\n",
    "import seaborn as sns\n",
    "sns.set(color_codes=True, rc={'figure.figsize':(10,8)})"
   ]
  },
  {
   "cell_type": "code",
   "execution_count": 2,
   "metadata": {
    "id": "XfQG6XzHQMIA"
   },
   "outputs": [],
   "source": [
    "pinguins = pd.read_csv(\"https://github.com/allisonhorst/palmerpenguins/raw/5b5891f01b52ae26ad8cb9755ec93672f49328a8/data/penguins_size.csv\")"
   ]
  },
  {
   "cell_type": "code",
   "execution_count": 3,
   "metadata": {
    "colab": {
     "base_uri": "https://localhost:8080/",
     "height": 198
    },
    "id": "dns4ru0pPxN7",
    "outputId": "34e8320b-63ea-4acc-aa3e-76b98971e586",
    "scrolled": true
   },
   "outputs": [
    {
     "data": {
      "text/html": [
       "<div>\n",
       "<style scoped>\n",
       "    .dataframe tbody tr th:only-of-type {\n",
       "        vertical-align: middle;\n",
       "    }\n",
       "\n",
       "    .dataframe tbody tr th {\n",
       "        vertical-align: top;\n",
       "    }\n",
       "\n",
       "    .dataframe thead th {\n",
       "        text-align: right;\n",
       "    }\n",
       "</style>\n",
       "<table border=\"1\" class=\"dataframe\">\n",
       "  <thead>\n",
       "    <tr style=\"text-align: right;\">\n",
       "      <th></th>\n",
       "      <th>species_short</th>\n",
       "      <th>island</th>\n",
       "      <th>culmen_length_mm</th>\n",
       "      <th>culmen_depth_mm</th>\n",
       "      <th>flipper_length_mm</th>\n",
       "      <th>body_mass_g</th>\n",
       "      <th>sex</th>\n",
       "    </tr>\n",
       "  </thead>\n",
       "  <tbody>\n",
       "    <tr>\n",
       "      <th>0</th>\n",
       "      <td>Adelie</td>\n",
       "      <td>Torgersen</td>\n",
       "      <td>39.1</td>\n",
       "      <td>18.7</td>\n",
       "      <td>181.0</td>\n",
       "      <td>3750.0</td>\n",
       "      <td>MALE</td>\n",
       "    </tr>\n",
       "    <tr>\n",
       "      <th>1</th>\n",
       "      <td>Adelie</td>\n",
       "      <td>Torgersen</td>\n",
       "      <td>39.5</td>\n",
       "      <td>17.4</td>\n",
       "      <td>186.0</td>\n",
       "      <td>3800.0</td>\n",
       "      <td>FEMALE</td>\n",
       "    </tr>\n",
       "    <tr>\n",
       "      <th>2</th>\n",
       "      <td>Adelie</td>\n",
       "      <td>Torgersen</td>\n",
       "      <td>40.3</td>\n",
       "      <td>18.0</td>\n",
       "      <td>195.0</td>\n",
       "      <td>3250.0</td>\n",
       "      <td>FEMALE</td>\n",
       "    </tr>\n",
       "    <tr>\n",
       "      <th>3</th>\n",
       "      <td>Adelie</td>\n",
       "      <td>Torgersen</td>\n",
       "      <td>NaN</td>\n",
       "      <td>NaN</td>\n",
       "      <td>NaN</td>\n",
       "      <td>NaN</td>\n",
       "      <td>NaN</td>\n",
       "    </tr>\n",
       "    <tr>\n",
       "      <th>4</th>\n",
       "      <td>Adelie</td>\n",
       "      <td>Torgersen</td>\n",
       "      <td>36.7</td>\n",
       "      <td>19.3</td>\n",
       "      <td>193.0</td>\n",
       "      <td>3450.0</td>\n",
       "      <td>FEMALE</td>\n",
       "    </tr>\n",
       "  </tbody>\n",
       "</table>\n",
       "</div>"
      ],
      "text/plain": [
       "  species_short     island  culmen_length_mm  culmen_depth_mm  \\\n",
       "0        Adelie  Torgersen              39.1             18.7   \n",
       "1        Adelie  Torgersen              39.5             17.4   \n",
       "2        Adelie  Torgersen              40.3             18.0   \n",
       "3        Adelie  Torgersen               NaN              NaN   \n",
       "4        Adelie  Torgersen              36.7             19.3   \n",
       "\n",
       "   flipper_length_mm  body_mass_g     sex  \n",
       "0              181.0       3750.0    MALE  \n",
       "1              186.0       3800.0  FEMALE  \n",
       "2              195.0       3250.0  FEMALE  \n",
       "3                NaN          NaN     NaN  \n",
       "4              193.0       3450.0  FEMALE  "
      ]
     },
     "execution_count": 3,
     "metadata": {},
     "output_type": "execute_result"
    }
   ],
   "source": [
    "pinguins.head()"
   ]
  },
  {
   "cell_type": "code",
   "execution_count": 4,
   "metadata": {
    "colab": {
     "base_uri": "https://localhost:8080/"
    },
    "id": "bQX8ibJ2P83O",
    "outputId": "14bc289a-5637-42ab-d403-9c08b784093f",
    "scrolled": true
   },
   "outputs": [
    {
     "data": {
      "text/plain": [
       "Adelie       146\n",
       "Gentoo       120\n",
       "Chinstrap     68\n",
       "Name: species_short, dtype: int64"
      ]
     },
     "execution_count": 4,
     "metadata": {},
     "output_type": "execute_result"
    }
   ],
   "source": [
    "pinguins = pinguins.dropna()\n",
    "pinguins.species_short.value_counts()"
   ]
  },
  {
   "cell_type": "code",
   "execution_count": 5,
   "metadata": {
    "id": "F-4jI1HSd38w"
   },
   "outputs": [],
   "source": [
    "pinguins.index = range(len(pinguins))"
   ]
  }
 ],
 "metadata": {
  "kernelspec": {
   "display_name": "Python 3",
   "language": "python",
   "name": "python3"
  },
  "language_info": {
   "codemirror_mode": {
    "name": "ipython",
    "version": 3
   },
   "file_extension": ".py",
   "mimetype": "text/x-python",
   "name": "python",
   "nbconvert_exporter": "python",
   "pygments_lexer": "ipython3",
   "version": "3.6.7"
  }
 },
 "nbformat": 4,
 "nbformat_minor": 2
}
