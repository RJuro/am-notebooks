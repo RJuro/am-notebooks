{
 "cells": [
  {
   "cell_type": "markdown",
   "metadata": {
    "id": "gUEGZLwQq0Vl"
   },
   "source": [
    "# \"Intro til Anvendt Matematik og Python opfriskning\"\n",
    "> \"19 April 2021 - HA-AAUBS\"\n",
    "\n",
    "- toc: true\n",
    "- branch: master\n",
    "- badges: true\n",
    "- comments: true\n",
    "- author: Roman Jurowetzki\n",
    "- categories: [intro, forelæsning]"
   ]
  },
  {
   "cell_type": "markdown",
   "metadata": {
    "id": "xiOWOHbyqVa1"
   },
   "source": [
    "# Intro til Anvendt Matematik og Python opfriskning\n",
    "\n",
    "\n",
    "- Matematik bruges i finance, økonomistyring, data science, tech og meget andet - men også helt sikkert senere hvis I skal videre med en kandidat.\n",
    "- Analytiske skills er meget [eftertragtede på arbejdsmarkedet](https://youtu.be/u2oupkbxddc \n",
    ") \n",
    "> [Ny DI-analyse viser](https://www.danskindustri.dk/tech-der-taller/analysearkiv/analyser/2020/10/kompetencer-til-et-digitalt-arbejdsliv/), at den digitale omstilling i virksomheder ikke kan drives af it-specialisterne alene. Der er i stærkt stigende omfang behov for, at samfundsvidenskabelige profiler også har gode digitale kompetencer.\n"
   ]
  },
  {
   "cell_type": "markdown",
   "metadata": {
    "id": "zkpGMgOTr1eT"
   },
   "source": [
    "### Hvad sker her fra idag til 21 Juni?\n",
    "\n",
    "- overblik over linkeær algebra og calculus (ikke meget mere end B niveau)\n",
    "- Brug gerne fx https://www.webmatematik.dk/ \n",
    "- $\\LaTeX$ [cheat-sheet](http://tug.ctan.org/info/undergradmath/undergradmath.pdf)\n",
    "- [Markdown cheatsheet](https://www.markdownguide.org/cheat-sheet/)\n",
    "- Lære at **bruge** matematik - ikke være matematiker¨\n",
    "- lære fra et data/computer science perspektiv, hvor det handler mest at kunne implementere matematik direkte og bruge til fx at bygge en søgemaskine, recommender system, visualisere eller automatisere BI \n",
    "- \"computational tilgang\" - Python som tool\n",
    "- Danglish"
   ]
  }
 ],
 "metadata": {
  "kernelspec": {
   "display_name": "Python 3",
   "language": "python",
   "name": "python3"
  },
  "language_info": {
   "codemirror_mode": {
    "name": "ipython",
    "version": 3
   },
   "file_extension": ".py",
   "mimetype": "text/x-python",
   "name": "python",
   "nbconvert_exporter": "python",
   "pygments_lexer": "ipython3",
   "version": "3.6.7"
  }
 },
 "nbformat": 4,
 "nbformat_minor": 2
}
