{
  "nbformat": 4,
  "nbformat_minor": 0,
  "metadata": {
    "colab": {
      "name": "AM2022-reexam.ipynb",
      "provenance": [],
      "collapsed_sections": [],
      "include_colab_link": true
    },
    "kernelspec": {
      "name": "python3",
      "display_name": "Python 3"
    },
    "language_info": {
      "name": "python"
    }
  },
  "cells": [
    {
      "cell_type": "markdown",
      "metadata": {
        "id": "view-in-github",
        "colab_type": "text"
      },
      "source": [
        "<a href=\"https://colab.research.google.com/github/RJuro/am-notebooks/blob/master/AM2022_reexam.ipynb\" target=\"_parent\"><img src=\"https://colab.research.google.com/assets/colab-badge.svg\" alt=\"Open In Colab\"/></a>"
      ]
    },
    {
      "cell_type": "markdown",
      "source": [
        "# Eksamen: Anvendt Matematik; 15/8 2022\n",
        "**Roman Jurowetzki**\n",
        "\n",
        "Opgaven har 4 dele. 1 og 3 (lineær algebra), 2 og 4 (calculus).\n",
        "\n",
        "#### Rules of the game:\n",
        "\n",
        "- Der afleveres som 👉 `ipynb` (**ikke PDF!**) - dvs., du skal bare downloade den fil du arbejder med fra Colab eller bare aflevere den ipynb fil som du har åbent i Jupyter Lab.\n",
        "- Du må gerne bruge dine noter, google etc.\n",
        "\n",
        "- Hvis koden ikke virker (men virkede før). Gå tilbage, og kør oppefra ned. Også en god ide at tjekke, at koden er fejlfri ved at gøre denne øvelse undervejs.\n",
        "- Hvis du får en fejl, overvej først hvad Python prøver at sige og tjek de forskellige objekter i cellen. Er de, hvad de burde være?\n",
        "- De fleste kodefejl er dumme stavefejl. Vær omhyggelig med kommaer, punktummer etc.\n",
        "- Hvis der er noget, som slet ikke kan løses, så kan du bare kommentere ud med `#` (det indgår ikke i bedømmelsen)\n",
        "- Husk, at output skal kunne ses (f.eks. dine plots)\n",
        "- Play fair og lad være med at snyde! - Det er nemmere at finde ud hvem der snyder end du tror. 🤓\n",
        "- Brug objektnavne, der blev defineret i opgaven"
      ],
      "metadata": {
        "id": "wUU-X31L-cgO"
      }
    },
    {
      "cell_type": "code",
      "execution_count": null,
      "metadata": {
        "id": "_5mLZ73m1lnN"
      },
      "outputs": [],
      "source": [
        "# importer pakker\n",
        "from sympy import *\n",
        "import numpy as np\n",
        "np.set_printoptions(suppress=True)\n",
        "from scipy import linalg\n",
        "import matplotlib.pyplot as plt"
      ]
    },
    {
      "cell_type": "markdown",
      "source": [
        "#1 Investering med 3 ligninger og 3 ubekendte\n",
        "\n",
        "Mathias vinder 350.000 kr. i en lodtrækning. 30.000 kr. bliver brugt på *fest og ballade*. Resten invisteres fordelt på Aktier, ETFer og Investeringsforeninger.\n",
        "\n",
        "Efter et år har det givet følgende afkast: aktier 5.2%, ETF 3.2%, investeringsforeninger 2.5%. I alt tjener Mathias 13590 kr. efter 1 år. Vi ved derudover, at der blev investeret $35000$ mere i ETF end Investeringsforeninger.\n",
        "\n",
        "Hvad var fordelingen i Mathildes portefølje?\n",
        "\n",
        "- Opstil 3 ligninger med 3 ubekendte\n",
        "- Omskriv til matrix ligning af type\n",
        "$A\\vec{x} = \\vec{b}$\n",
        "- Beregn $\\vec{x}$\n",
        "\n",
        "Du skal bruge følgende Python objekter:\n",
        "\n",
        "\n",
        "*   $A$: `A1`\n",
        "*   $A^{-1}$: `A1_inv`\n",
        "*   $\\vec{b}$: `vector_b1`\n",
        "* $\\vec{x}$: `vector_x1`"
      ],
      "metadata": {
        "id": "2Dl44OPXL3yF"
      }
    },
    {
      "cell_type": "code",
      "source": [
        "A1 = np.array([[1,1,1],\n",
        "             [0.052,0.032,0.025],\n",
        "             [0,1,-1]])"
      ],
      "metadata": {
        "id": "Vp8gSialKuUq"
      },
      "execution_count": null,
      "outputs": []
    },
    {
      "cell_type": "code",
      "source": [
        "vector_b1 = np.array([320000,13590,35000]).reshape(-1,1)"
      ],
      "metadata": {
        "id": "8kfV1_UQMiI9"
      },
      "execution_count": null,
      "outputs": []
    },
    {
      "cell_type": "code",
      "source": [
        "np.linalg.inv(A1) @ vector_b1"
      ],
      "metadata": {
        "colab": {
          "base_uri": "https://localhost:8080/"
        },
        "id": "FGZOdc7NMkIw",
        "outputId": "39ff2a44-10be-459e-8acd-b7237d8f97b0"
      },
      "execution_count": null,
      "outputs": [
        {
          "output_type": "execute_result",
          "data": {
            "text/plain": [
              "array([[185000.],\n",
              "       [ 85000.],\n",
              "       [ 50000.]])"
            ]
          },
          "metadata": {},
          "execution_count": 4
        }
      ]
    },
    {
      "cell_type": "markdown",
      "source": [
        "#2 Ekstrempunkter\n",
        "## 2.1 Opstil og plot ligning\n",
        "\n",
        "Du er givet følgende funktion:\n",
        "$F(x) = -\\frac{1}{3}  x^3 + 5x^2 - 4.5x+16 $\n",
        "\n",
        "OBS: `x` bruges som Sympy symbol - `x_plot` bruges som numpy array til at plotte funktioner."
      ],
      "metadata": {
        "id": "sXFpXV9EWPu1"
      }
    },
    {
      "cell_type": "code",
      "source": [
        "# x defineres som sympy symbol\n",
        "x = symbols('x')"
      ],
      "metadata": {
        "id": "b46qzSmkeQzu"
      },
      "execution_count": null,
      "outputs": []
    },
    {
      "cell_type": "code",
      "source": [
        "# 2.1 Plot for x i [-10, 15]; brug objekter x_plot og y_plot; husk at lave nye x_plot via linspace (1000 værdier)\n",
        "\n",
        "x_plot = np.linspace(-10, 15, 1000)\n",
        "y_plot = -(1/3) * x_plot**3 + 5*x_plot**2 - 4.5*x_plot+16"
      ],
      "metadata": {
        "id": "w-OlEkniYqpV"
      },
      "execution_count": null,
      "outputs": []
    },
    {
      "cell_type": "code",
      "source": [
        "plt.plot(x_plot,y_plot)"
      ],
      "metadata": {
        "colab": {
          "base_uri": "https://localhost:8080/",
          "height": 282
        },
        "id": "yuE0_CljYuUg",
        "outputId": "2e16924c-3733-4b80-e86a-35efce1fe4aa"
      },
      "execution_count": null,
      "outputs": [
        {
          "output_type": "execute_result",
          "data": {
            "text/plain": [
              "[<matplotlib.lines.Line2D at 0x7f9f713134d0>]"
            ]
          },
          "metadata": {},
          "execution_count": 7
        },
        {
          "output_type": "display_data",
          "data": {
            "text/plain": [
              "<Figure size 432x288 with 1 Axes>"
            ],
            "image/png": "[encoded data removed]"
          },
          "metadata": {
            "needs_background": "light"
          }
        }
      ]
    },
    {
      "cell_type": "markdown",
      "source": [
        "## 2.2 Find ekstrempunkter\n",
        "\n",
        "- Opstil ligning $F(x)$ som objekt `y`. \n",
        "- Beregn $F'(x)$ eller $y'$ (afledede $F(x)$) og x-værdier i de 2 ekstrempunkter\n",
        "\n",
        "- Brug en \"sign chart\" tilgang for at bestemme, om de to punkter er hhv. minimum/maksimum. Hvor er hhv minimum og maksimum?"
      ],
      "metadata": {
        "id": "7kvtVxq257vv"
      }
    },
    {
      "cell_type": "code",
      "source": [
        "y = -(1/3) * x**3 + 5*x**2 - 4.5*x+16"
      ],
      "metadata": {
        "id": "f-COOIIiYw7u"
      },
      "execution_count": null,
      "outputs": []
    },
    {
      "cell_type": "code",
      "source": [
        "solve(diff(y),x)"
      ],
      "metadata": {
        "colab": {
          "base_uri": "https://localhost:8080/"
        },
        "id": "vfpBu51iZeQQ",
        "outputId": "ecb1f1de-fbb9-4838-e032-31ab09410e60"
      },
      "execution_count": null,
      "outputs": [
        {
          "output_type": "execute_result",
          "data": {
            "text/plain": [
              "[0.472307430931292, 9.52769256906871]"
            ]
          },
          "metadata": {},
          "execution_count": 9
        }
      ]
    },
    {
      "cell_type": "code",
      "source": [
        "sign_chart = [-2,0.47,2,9.52,11] "
      ],
      "metadata": {
        "id": "04Fma20eZey0"
      },
      "execution_count": null,
      "outputs": []
    },
    {
      "cell_type": "code",
      "source": [
        "[diff(y).subs(x,i) for i in sign_chart]"
      ],
      "metadata": {
        "colab": {
          "base_uri": "https://localhost:8080/"
        },
        "id": "__UFVIZIaPmb",
        "outputId": "4cf07aac-3a8d-4cf6-be3c-2ccd57cd59f8"
      },
      "execution_count": null,
      "outputs": [
        {
          "output_type": "execute_result",
          "data": {
            "text/plain": [
              "[-28.5000000000000,\n",
              " -0.0209000000000007,\n",
              " 11.5000000000000,\n",
              " 0.0695999999999941,\n",
              " -15.5000000000000]"
            ]
          },
          "metadata": {},
          "execution_count": 11
        }
      ]
    },
    {
      "cell_type": "markdown",
      "source": [
        "## 2.3 - Find og plot tangentlinjen \n",
        "\n",
        "- Beregn den lineære ligning $t = mx+b$ der beskriver tangenten i $x_i = -6$\n",
        "- Du skal først finde $y_{i}$\n",
        "samt $m$ i $x_i$ og $b$\n"
      ],
      "metadata": {
        "id": "In2KwTXu51dT"
      }
    },
    {
      "cell_type": "code",
      "source": [
        "y.subs(x,-6)"
      ],
      "metadata": {
        "colab": {
          "base_uri": "https://localhost:8080/",
          "height": 37
        },
        "id": "czKq6khhaUvO",
        "outputId": "4d0a66d5-8da9-4cc6-8e36-5249b3518d94"
      },
      "execution_count": null,
      "outputs": [
        {
          "output_type": "execute_result",
          "data": {
            "text/plain": [
              "295.000000000000"
            ],
            "text/latex": "$\\displaystyle 295.0$"
          },
          "metadata": {},
          "execution_count": 12
        }
      ]
    },
    {
      "cell_type": "code",
      "source": [
        "diff(y).subs(x,-6)"
      ],
      "metadata": {
        "colab": {
          "base_uri": "https://localhost:8080/",
          "height": 37
        },
        "id": "zxgoYRF5af_D",
        "outputId": "ad88a52c-eeb9-4bcf-8cfb-850f8c36d7f4"
      },
      "execution_count": null,
      "outputs": [
        {
          "output_type": "execute_result",
          "data": {
            "text/plain": [
              "-100.500000000000"
            ],
            "text/latex": "$\\displaystyle -100.5$"
          },
          "metadata": {},
          "execution_count": 13
        }
      ]
    },
    {
      "cell_type": "code",
      "source": [
        "b = 295 + 100.5*-6"
      ],
      "metadata": {
        "id": "LTZyynZkatxG"
      },
      "execution_count": null,
      "outputs": []
    },
    {
      "cell_type": "markdown",
      "source": [
        "## 2.4 Tangentligning og Plot\n",
        "plot $F(x)$ og $t(x)$ i $x = -6$\n",
        "OBS: Brug x_plot / y_plot her"
      ],
      "metadata": {
        "id": "kX-Y74Ul9xWP"
      }
    },
    {
      "cell_type": "code",
      "source": [
        "t = -100.5*x_plot+b"
      ],
      "metadata": {
        "id": "n0iwALbcbD4y"
      },
      "execution_count": null,
      "outputs": []
    },
    {
      "cell_type": "code",
      "source": [
        "plt.plot(x_plot,y_plot)\n",
        "plt.plot(x_plot,t)"
      ],
      "metadata": {
        "colab": {
          "base_uri": "https://localhost:8080/",
          "height": 284
        },
        "id": "cOhEc6pYbEQh",
        "outputId": "9627df67-0c2a-4c25-9085-3dcef28593f0"
      },
      "execution_count": null,
      "outputs": [
        {
          "output_type": "execute_result",
          "data": {
            "text/plain": [
              "[<matplotlib.lines.Line2D at 0x7f9f709a8210>]"
            ]
          },
          "metadata": {},
          "execution_count": 16
        },
        {
          "output_type": "display_data",
          "data": {
            "text/plain": [
              "<Figure size 432x288 with 1 Axes>"
            ],
            "image/png": "[encoded data removed]"
          },
          "metadata": {
            "needs_background": "light"
          }
        }
      ]
    },
    {
      "cell_type": "markdown",
      "source": [
        "# 3. FlexiGainz\n",
        "\n",
        "En ny Aalborgensisk fitnesskæde introducerer 2 \"flex\" medlemskaber til at supplere deres standard 269 kr./md alt fitness og hold tilbud. De nye pakker retter sig mod folk, der ikke kommer så ofte ud.ettning er et andet spørgs\n",
        "\n",
        "1. 49kr månedsgebyr og 15 kr. hver gang du kommer og træner.\n",
        "2. 99kr månedsgebyr og 6 kr. hver gang du kommer og træner."
      ],
      "metadata": {
        "id": "sXhAV2c5m6Qd"
      }
    },
    {
      "cell_type": "markdown",
      "source": [
        "**OBS - i alle opgaver: Lav så mange nye code-celler, som du har brug for!\n",
        "Skriv korte \"verbale\" svar, hvor det giver mening!**"
      ],
      "metadata": {
        "id": "QKGf2Z6GILoH"
      }
    },
    {
      "cell_type": "code",
      "source": [
        "# 3.1 Hvilket medlemskab er billigst hvis man træner hhv 10 og 5 gange / måned?"
      ],
      "metadata": {
        "id": "_J2FAZlwoOn-"
      },
      "execution_count": null,
      "outputs": []
    },
    {
      "cell_type": "code",
      "source": [
        "p1 = 15*10 + 36\n",
        "p2 = 15*5 + 36"
      ],
      "metadata": {
        "id": "bQOmjhJY9TEb"
      },
      "execution_count": null,
      "outputs": []
    },
    {
      "cell_type": "code",
      "source": [
        "print(p1,p2)"
      ],
      "metadata": {
        "colab": {
          "base_uri": "https://localhost:8080/"
        },
        "id": "R-MZa70J9k74",
        "outputId": "5a646be9-0d6c-4e8a-b7b7-1eb217f0813f"
      },
      "execution_count": null,
      "outputs": [
        {
          "output_type": "stream",
          "name": "stdout",
          "text": [
            "186 111\n"
          ]
        }
      ]
    },
    {
      "cell_type": "code",
      "source": [
        "p1 = 6*10 + 99\n",
        "p2 = 6*5 + 99"
      ],
      "metadata": {
        "id": "KAUG5agd9-Yr"
      },
      "execution_count": null,
      "outputs": []
    },
    {
      "cell_type": "code",
      "source": [
        "print(p1,p2)"
      ],
      "metadata": {
        "colab": {
          "base_uri": "https://localhost:8080/"
        },
        "id": "smtPKcRm-Cab",
        "outputId": "a404e82c-297e-4327-87ea-dca0d34d618a"
      },
      "execution_count": null,
      "outputs": [
        {
          "output_type": "stream",
          "name": "stdout",
          "text": [
            "159 129\n"
          ]
        }
      ]
    },
    {
      "cell_type": "code",
      "source": [
        "# SVAR: medlemskab 2 for 10 ; medlemskab 1 for 5"
      ],
      "metadata": {
        "id": "qn4yPUw9pXGA"
      },
      "execution_count": null,
      "outputs": []
    },
    {
      "cell_type": "code",
      "source": [
        "# 3.2 Plot de 2 lineære funktioner. \n",
        "# - Brug np.linspace til at generere x-værdier (fx. x_plot mellem 0 og 100)\n",
        "# - Beregn y-værdier i 2 nye objekter (fx. medl_1; medl_2)\n",
        "# brug"
      ],
      "metadata": {
        "id": "LSRgEPS6ppNN"
      },
      "execution_count": null,
      "outputs": []
    },
    {
      "cell_type": "code",
      "source": [
        "x_plot = np.linspace(0, 100, num=100)"
      ],
      "metadata": {
        "id": "YcLND9li8Vra"
      },
      "execution_count": null,
      "outputs": []
    },
    {
      "cell_type": "code",
      "source": [
        "medl_1 = 15*x_plot + 49\n",
        "medl_2 = 6*x_plot + 99"
      ],
      "metadata": {
        "id": "ynOoT9nQ1t2c"
      },
      "execution_count": null,
      "outputs": []
    },
    {
      "cell_type": "code",
      "source": [
        "# Plot; brug \"red\" og \"gold\" som farver\n",
        "\n",
        "plt.axis([0, 60, 40, 500])\n",
        "plt.xlabel('N træning')\n",
        "plt.ylabel('kr.')\n",
        "\n",
        "plt.plot(x_plot, medl_1, color = \"red\") # medlemskab 1\n",
        "plt.plot(x_plot, medl_2, color = \"gold\") # medlemskab 2\n"
      ],
      "metadata": {
        "colab": {
          "base_uri": "https://localhost:8080/",
          "height": 300
        },
        "id": "bvmF7zeD8jlt",
        "outputId": "0ffdf378-2a87-437b-c439-da8e4df000c5"
      },
      "execution_count": null,
      "outputs": [
        {
          "output_type": "execute_result",
          "data": {
            "text/plain": [
              "[<matplotlib.lines.Line2D at 0x7f9f70924e10>]"
            ]
          },
          "metadata": {},
          "execution_count": 26
        },
        {
          "output_type": "display_data",
          "data": {
            "text/plain": [
              "<Figure size 432x288 with 1 Axes>"
            ],
            "image/png": "[encoded data removed]"
          },
          "metadata": {
            "needs_background": "light"
          }
        }
      ]
    },
    {
      "cell_type": "code",
      "source": [
        "# 3.3\n",
        "\n",
        "# Hvad er antal af træningssesioner pr. måned, hvor man i alt betaler det samme som kunde?\n",
        "\n",
        "# opstil ligningssystemet som augmented matrix \n",
        "# og løs ligningssystemet ved at omskrive til række echelon form. \n",
        "\n",
        "# OBS: når du definerer np.array skal du enten skrive min. 1 decimaltal e.g. 5.0\n",
        "# Eller eksplicit bruge dtype=\"float32\"."
      ],
      "metadata": {
        "id": "kYsAiDLw0quE"
      },
      "execution_count": null,
      "outputs": []
    },
    {
      "cell_type": "code",
      "source": [
        "augmented = np.array([\n",
        "[15, -1, -49],\n",
        "[6, -1, -99]\n",
        "],dtype=\"float32\")"
      ],
      "metadata": {
        "id": "uviMTPO28xkD"
      },
      "execution_count": null,
      "outputs": []
    },
    {
      "cell_type": "code",
      "source": [
        "augmented[0] = augmented[0]/augmented[0,0]"
      ],
      "metadata": {
        "id": "8IvsN-MZCIdW"
      },
      "execution_count": null,
      "outputs": []
    },
    {
      "cell_type": "code",
      "source": [
        "augmented[1] = augmented[1] - augmented[1,0]*augmented[0]"
      ],
      "metadata": {
        "id": "JqHhMKSvCNaf"
      },
      "execution_count": null,
      "outputs": []
    },
    {
      "cell_type": "code",
      "source": [
        "augmented[1] = augmented[1] / augmented[1,1]"
      ],
      "metadata": {
        "id": "s2V7j5XUCNwS"
      },
      "execution_count": null,
      "outputs": []
    },
    {
      "cell_type": "code",
      "source": [
        "augmented[0] = augmented[0] - augmented[0,1]*augmented[1]"
      ],
      "metadata": {
        "id": "RCuVWCNMCPbA"
      },
      "execution_count": null,
      "outputs": []
    },
    {
      "cell_type": "code",
      "source": [
        "# print\n",
        "print(augmented)"
      ],
      "metadata": {
        "colab": {
          "base_uri": "https://localhost:8080/"
        },
        "id": "sodD69aQCQ9c",
        "outputId": "f21b9f50-c5c0-44a1-c9b7-5d9edce400a1"
      },
      "execution_count": null,
      "outputs": [
        {
          "output_type": "stream",
          "name": "stdout",
          "text": [
            "[[  1.          0.          5.5555573]\n",
            " [ -0.          1.        132.33334  ]]\n"
          ]
        }
      ]
    },
    {
      "cell_type": "markdown",
      "source": [
        "## 3.4 Pay as you go!\n",
        "\n",
        "Der lanceres et nyt medlemskab (medl_3) med 0 kr. i månedsgebyr. Hvor meget skal det koste (tilnærmelsesvis) per træning for at opnå den samme samlede pris i ligevægt (der beregnes i 1.3)?\n",
        "\n",
        "Brug svar fra grafisk løsning (1.2), hvis du mangler svar i 1.3\n",
        "\n",
        "Plot ligningen, der beskriver medl_3 sammen med de 2 andre (medl_1 og medl_2)."
      ],
      "metadata": {
        "id": "C-ph-wE8Avq_"
      }
    },
    {
      "cell_type": "code",
      "source": [
        "132.33334 / 5.5555573"
      ],
      "metadata": {
        "colab": {
          "base_uri": "https://localhost:8080/"
        },
        "id": "GGWw0tQpI1QW",
        "outputId": "797b0a1e-8835-4816-a42a-3faf7cf11eb7"
      },
      "execution_count": null,
      "outputs": [
        {
          "output_type": "execute_result",
          "data": {
            "text/plain": [
              "23.819993720521968"
            ]
          },
          "metadata": {},
          "execution_count": 34
        }
      ]
    },
    {
      "cell_type": "code",
      "source": [
        "medl_3 = (132.33334 / 5.5555573)*x_plot"
      ],
      "metadata": {
        "id": "Q6l7r3EzluRX"
      },
      "execution_count": null,
      "outputs": []
    },
    {
      "cell_type": "code",
      "source": [
        "# Plot\n",
        "\n",
        "plt.axis([0, 60, 0, 500])\n",
        "plt.xlabel('N træning')\n",
        "plt.ylabel('kr.')\n",
        "\n",
        "plt.plot(x_plot, medl_1, color = \"red\") # medlemskab 1\n",
        "plt.plot(x_plot, medl_2, color = \"gold\") # medlemskab 2\n",
        "plt.plot(x_plot, medl_3, color = \"green\") # medlemskab 3"
      ],
      "metadata": {
        "colab": {
          "base_uri": "https://localhost:8080/",
          "height": 300
        },
        "id": "iF27WrTSlkoz",
        "outputId": "ba70df79-6c57-4fa7-a15f-455c19b25225"
      },
      "execution_count": null,
      "outputs": [
        {
          "output_type": "execute_result",
          "data": {
            "text/plain": [
              "[<matplotlib.lines.Line2D at 0x7f9f708a78d0>]"
            ]
          },
          "metadata": {},
          "execution_count": 36
        },
        {
          "output_type": "display_data",
          "data": {
            "text/plain": [
              "<Figure size 432x288 with 1 Axes>"
            ],
            "image/png": "[encoded data removed]"
          },
          "metadata": {
            "needs_background": "light"
          }
        }
      ]
    },
    {
      "cell_type": "markdown",
      "source": [
        "## 3.5 Ændring i Månedsgebyr\n",
        "Hvordan skal månedsgebyr for medlemskab 1 (49kr/md og 15 kr/træning) ændres, således samlet pris vs medlemskab 2 er lige ved 7 gange træning pr. måned?\n",
        "\n",
        "Brug matrix regning til at løse opgaven\n",
        "\n",
        "Du kan bruge følgende python objekter:\n",
        "\n",
        "\n",
        "*   $A$: `A`\n",
        "*   $\\vec{b_n}$: `vector_b_n`\n",
        "* $\\vec{x_n}$: `vector_x_n`"
      ],
      "metadata": {
        "id": "37lG0_fp7F72"
      }
    },
    {
      "cell_type": "code",
      "source": [
        "# Definer matrix A\n",
        "A = np.array([\n",
        "[15, -1],\n",
        "[6, -1]\n",
        "])"
      ],
      "metadata": {
        "id": "_BfPyntNJAkb"
      },
      "execution_count": null,
      "outputs": []
    },
    {
      "cell_type": "code",
      "source": [
        "# Beregn ligevægtspris ved at træne 7 gange med udgangspunkt i medlemskab 2\n",
        "6*7 + 99"
      ],
      "metadata": {
        "colab": {
          "base_uri": "https://localhost:8080/"
        },
        "id": "sliHNCJQKGNF",
        "outputId": "c6855d7e-1769-44bc-bb4a-6576f7f339f7"
      },
      "execution_count": null,
      "outputs": [
        {
          "output_type": "execute_result",
          "data": {
            "text/plain": [
              "141"
            ]
          },
          "metadata": {},
          "execution_count": 38
        }
      ]
    },
    {
      "cell_type": "code",
      "source": [
        "# definer vector x i ny ligevægt\n",
        "vector_x_n = np.array([[7],[141]])"
      ],
      "metadata": {
        "id": "vMRF2WlkKF5F"
      },
      "execution_count": null,
      "outputs": []
    },
    {
      "cell_type": "code",
      "source": [
        "# beregn ny vector b i ny ligevægt\n",
        "A @ vector_x_n"
      ],
      "metadata": {
        "colab": {
          "base_uri": "https://localhost:8080/"
        },
        "id": "n7H3CPDQKRvy",
        "outputId": "07776bc0-71bb-4a11-ce12-bd300328981f"
      },
      "execution_count": null,
      "outputs": [
        {
          "output_type": "execute_result",
          "data": {
            "text/plain": [
              "array([[-36],\n",
              "       [-99]])"
            ]
          },
          "metadata": {},
          "execution_count": 40
        }
      ]
    },
    {
      "cell_type": "markdown",
      "source": [
        "Hvis ligevægt med MEdlemskab 2 skal opnås ved 7 træningsgange, så skal månedsgebyr for medlemskab 1 være ..."
      ],
      "metadata": {
        "id": "ffFzRHdZ7xJT"
      }
    },
    {
      "cell_type": "markdown",
      "source": [
        "#4 Beslutningstagning på land og til vands \n",
        "\n",
        "En større rederi overvejer en ny rute for at afhjælpe den aktuelle forsyningskæde-krise.\n",
        "\n",
        "Der bliver estimeret følgende funktion, som beskriver omkostninger for hver sejlads:\n",
        "\n",
        "$m(x) = 23x-5x^{0.5} +0.07x^2$\n",
        "\n",
        "Det vil koste 400 at etablere ruten.\n",
        "\n",
        "Aggregeret efterspørgsel – givet efterspørgel efter containere – er estimeret til $p(x) = 430-5.8x$\n",
        "\n",
        "Derudover:\n",
        "\n",
        "- $ C(x) = m(x) + \\text{faste omkostninger} $\n",
        "- $ R(x) = p(x) · x $\n",
        "- Alle tal i mio kr\n",
        "- x: antal; p: pris\n",
        "- Der antages, at der er udsolgt, når der sejles (sejlads ved 100% kapacitet)"
      ],
      "metadata": {
        "id": "KuAKKo7UScK_"
      }
    },
    {
      "cell_type": "code",
      "source": [
        "# 4.1 Opstil ligninger for m(x), C(x), p(x) og R(x)\n",
        "# brug objekter: m_x; C_x; p_x; R_x"
      ],
      "metadata": {
        "id": "f7GaWnsIzngP"
      },
      "execution_count": null,
      "outputs": []
    },
    {
      "cell_type": "code",
      "source": [
        "# brug x og p symboler i denne opgave\n",
        "x,p = symbols('x,p')"
      ],
      "metadata": {
        "id": "8CJJu8L2Sc4p"
      },
      "execution_count": null,
      "outputs": []
    },
    {
      "cell_type": "code",
      "source": [
        "m_x = 23*x-5*x**0.5+0.07*x**2"
      ],
      "metadata": {
        "id": "88h-ibLyS5LY"
      },
      "execution_count": null,
      "outputs": []
    },
    {
      "cell_type": "code",
      "source": [
        "C_x = m_x + 400"
      ],
      "metadata": {
        "id": "Gai2rVueTHg8"
      },
      "execution_count": null,
      "outputs": []
    },
    {
      "cell_type": "code",
      "source": [
        "p_x = 430 - 5.8*x"
      ],
      "metadata": {
        "id": "KwWmTyw4TKKX"
      },
      "execution_count": null,
      "outputs": []
    },
    {
      "cell_type": "code",
      "source": [
        "R_x = p_x * x"
      ],
      "metadata": {
        "id": "t1qf8QyNTbv-"
      },
      "execution_count": null,
      "outputs": []
    },
    {
      "cell_type": "code",
      "source": [
        "R_x"
      ],
      "metadata": {
        "colab": {
          "base_uri": "https://localhost:8080/",
          "height": 39
        },
        "id": "-5mGFRwCCZ29",
        "outputId": "7a4826f0-a687-470e-f604-f78fae7f6ba3"
      },
      "execution_count": null,
      "outputs": [
        {
          "output_type": "execute_result",
          "data": {
            "text/plain": [
              "x*(430 - 5.8*x)"
            ],
            "text/latex": "$\\displaystyle x \\left(430 - 5.8 x\\right)$"
          },
          "metadata": {},
          "execution_count": 47
        }
      ]
    },
    {
      "cell_type": "code",
      "source": [
        "C_x"
      ],
      "metadata": {
        "colab": {
          "base_uri": "https://localhost:8080/",
          "height": 39
        },
        "id": "-TdnVfQ7Cf5k",
        "outputId": "d29090b6-3de6-4069-b375-aae0029db573"
      },
      "execution_count": null,
      "outputs": [
        {
          "output_type": "execute_result",
          "data": {
            "text/plain": [
              "-5*x**0.5 + 0.07*x**2 + 23*x + 400"
            ],
            "text/latex": "$\\displaystyle - 5 x^{0.5} + 0.07 x^{2} + 23 x + 400$"
          },
          "metadata": {},
          "execution_count": 48
        }
      ]
    },
    {
      "cell_type": "markdown",
      "source": [
        "* Marginalomkostninger $MC = C'(x)$ (omkostninger ved at udbyde +1 sejlads)\n",
        "* Marginalindtægter $MR = R'(x)$ (indtægter ved at \"sælge\" +1 sejlads)"
      ],
      "metadata": {
        "id": "sXpTtiCj0MZU"
      }
    },
    {
      "cell_type": "code",
      "source": [
        "# 4.2 Beregn MC og MR (sympy)"
      ],
      "metadata": {
        "id": "p5OPwfbh0I35"
      },
      "execution_count": null,
      "outputs": []
    },
    {
      "cell_type": "code",
      "source": [
        "MC = diff(C_x)"
      ],
      "metadata": {
        "id": "3cOvgRyNTjo1"
      },
      "execution_count": null,
      "outputs": []
    },
    {
      "cell_type": "code",
      "source": [
        "MR = diff(R_x)"
      ],
      "metadata": {
        "id": "muo3e7KUT2QF"
      },
      "execution_count": null,
      "outputs": []
    },
    {
      "cell_type": "code",
      "source": [
        "# 4.3 Beregn den profitoptimerende mængde og pris i monopol ved at løse MC = MR ligningen\n",
        "# Opstil først ligninger MC(x) = p og MR(x) = p som MC_eq og MR_eq ved at bruge \"Eq\" funktionen.\n",
        "\n",
        "# beregning af MC = MR med sympy kan tage lidt tid (~30sec)"
      ],
      "metadata": {
        "id": "g5-x68vG0eHZ"
      },
      "execution_count": null,
      "outputs": []
    },
    {
      "cell_type": "code",
      "source": [
        "MC_eq = Eq(MC,p)\n",
        "MR_eq = Eq(MR,p)"
      ],
      "metadata": {
        "id": "8jMf6sHnT4NB"
      },
      "execution_count": null,
      "outputs": []
    },
    {
      "cell_type": "code",
      "source": [
        "solve([MC_eq,MR_eq])"
      ],
      "metadata": {
        "colab": {
          "base_uri": "https://localhost:8080/"
        },
        "id": "TtibZNERUEO4",
        "outputId": "cce33e60-d167-4cd6-ff28-b16fdfce735b"
      },
      "execution_count": null,
      "outputs": [
        {
          "output_type": "execute_result",
          "data": {
            "text/plain": [
              "[{p: 27.4341772889959, x: 34.7039502337073}]"
            ]
          },
          "metadata": {},
          "execution_count": 54
        }
      ]
    }
  ]
}