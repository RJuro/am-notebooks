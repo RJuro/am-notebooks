{
  "nbformat": 4,
  "nbformat_minor": 0,
  "metadata": {
    "colab": {
      "name": "AM2022-exam.ipynb",
      "provenance": [],
      "collapsed_sections": [],
      "include_colab_link": true
    },
    "kernelspec": {
      "name": "python3",
      "display_name": "Python 3"
    },
    "language_info": {
      "name": "python"
    }
  },
  "cells": [
    {
      "cell_type": "markdown",
      "metadata": {
        "id": "view-in-github",
        "colab_type": "text"
      },
      "source": [
        "<a href=\"https://colab.research.google.com/github/RJuro/am-notebooks/blob/master/AM2022_exam_ret.ipynb\" target=\"_parent\"><img src=\"https://colab.research.google.com/assets/colab-badge.svg\" alt=\"Open In Colab\"/></a>"
      ]
    },
    {
      "cell_type": "markdown",
      "source": [
        "# Eksamen: Anvendt Matematik; 13/4 2022\n",
        "**Roman Jurowetzki**\n",
        "\n",
        "Opgaven har 4 dele. (1-2) Lineær algebra og (3-4)calculus.\n",
        "\n",
        "#### Rules of the game:\n",
        "\n",
        "- Der afleveres som 👉 `ipynb` (**ikke PDF!**) - dvs., du skal bare downloade den fil du arbejder med fra Colab eller bare aflevere den ipynb fil som du har åbent i Jupyter Lab.\n",
        "- Du må gerne bruge dine noter, google etc.\n",
        "\n",
        "- Hvis koden ikke virker (men virkede før). Gå tilbage, og kør oppefra ned. Også en god ide at tjekke, at koden er fejlfri ved at gøre denne øvelse undervejs.\n",
        "- Hvis du får en fejl, overvej først hvad Python prøver at sige og tjek de forskellige objekter i cellen. Er de, hvad de burde være?\n",
        "- De fleste kodefejl er dumme stavefejl. Vær omhyggelig med kommaer, punktummer etc.\n",
        "- Hvis der er noget, som slet ikke kan løses, så kan du bare kommentere ud med `#` (det indgår ikke i bedømmelsen)\n",
        "- Husk, at output skal kunne ses (f.eks. dine plots)\n",
        "- Play fair og lad være med at snyde! - Det er nemmere at finde ud hvem der snyder end du tror. 🤓\n",
        "- Brug objektnavne, der blev defineret i opgaven"
      ],
      "metadata": {
        "id": "wUU-X31L-cgO"
      }
    },
    {
      "cell_type": "code",
      "execution_count": null,
      "metadata": {
        "id": "_5mLZ73m1lnN"
      },
      "outputs": [],
      "source": [
        "# importer pakker\n",
        "from sympy import *\n",
        "import numpy as np\n",
        "np.set_printoptions(suppress=True)\n",
        "from scipy import linalg\n",
        "import matplotlib.pyplot as plt"
      ]
    },
    {
      "cell_type": "markdown",
      "source": [
        "# 1. Old School Mobilpakker\n",
        "\n",
        "Der er givet 2 urealistiske mobilpakker med fast månedsgebyr og betaling per minut\n",
        "\n",
        "1. 44kr månedsgebyr og 6 øre/min\n",
        "2. 50kr månedsgebyr og 5 øre/min"
      ],
      "metadata": {
        "id": "sXhAV2c5m6Qd"
      }
    },
    {
      "cell_type": "markdown",
      "source": [
        "**OBS - i alle opgaver: Lav så mange nye code-celler, som du har brug for!\n",
        "Skriv korte \"verbale\" svar, hvor det giver mening!**"
      ],
      "metadata": {
        "id": "QKGf2Z6GILoH"
      }
    },
    {
      "cell_type": "code",
      "source": [
        "# 1.1 Hvilken pakke er billigst hvis man taler hhv 1160 og 420 minut / måned?"
      ],
      "metadata": {
        "id": "_J2FAZlwoOn-"
      },
      "execution_count": null,
      "outputs": []
    },
    {
      "cell_type": "code",
      "source": [
        "p1 = 0.06*1160 + 44\n",
        "p2 = 0.05*1160 + 50"
      ],
      "metadata": {
        "id": "bQOmjhJY9TEb"
      },
      "execution_count": null,
      "outputs": []
    },
    {
      "cell_type": "code",
      "source": [
        "print(p1,p2)"
      ],
      "metadata": {
        "colab": {
          "base_uri": "https://localhost:8080/"
        },
        "id": "R-MZa70J9k74",
        "outputId": "c4d94b60-d0b8-488d-dc75-d8cae657b37b"
      },
      "execution_count": null,
      "outputs": [
        {
          "output_type": "stream",
          "name": "stdout",
          "text": [
            "113.6 108.0\n"
          ]
        }
      ]
    },
    {
      "cell_type": "code",
      "source": [
        "p1 = 0.06*420 + 44\n",
        "p2 = 0.05*420 + 50"
      ],
      "metadata": {
        "id": "KAUG5agd9-Yr"
      },
      "execution_count": null,
      "outputs": []
    },
    {
      "cell_type": "code",
      "source": [
        "print(p1,p2)"
      ],
      "metadata": {
        "colab": {
          "base_uri": "https://localhost:8080/"
        },
        "id": "smtPKcRm-Cab",
        "outputId": "43773fc2-bd14-4743-90d4-59c9a380f44b"
      },
      "execution_count": null,
      "outputs": [
        {
          "output_type": "stream",
          "name": "stdout",
          "text": [
            "69.2 71.0\n"
          ]
        }
      ]
    },
    {
      "cell_type": "code",
      "source": [
        "# SVAR: Pakke 2 for 1160 min. ; Pakke 1 for 420 min."
      ],
      "metadata": {
        "id": "qn4yPUw9pXGA"
      },
      "execution_count": null,
      "outputs": []
    },
    {
      "cell_type": "code",
      "source": [
        "# 1.2 Plot de 2 lineære funktioner. \n",
        "# - Brug np.linspace til at generere x-værdier (fx. x_plot mellem 0 og 1200)\n",
        "# - Beregn y-værdier i 2 nye objekter (fx. pakke_1; pakke_2)\n",
        "# brug"
      ],
      "metadata": {
        "id": "LSRgEPS6ppNN"
      },
      "execution_count": null,
      "outputs": []
    },
    {
      "cell_type": "code",
      "source": [
        "x_plot = np.linspace(0, 1200, num=100)"
      ],
      "metadata": {
        "id": "YcLND9li8Vra"
      },
      "execution_count": null,
      "outputs": []
    },
    {
      "cell_type": "code",
      "source": [
        "pakke_1 = 0.06*x_plot + 44\n",
        "pakke_2 = 0.05*x_plot + 50"
      ],
      "metadata": {
        "id": "ynOoT9nQ1t2c"
      },
      "execution_count": null,
      "outputs": []
    },
    {
      "cell_type": "code",
      "source": [
        "# Plot; brug \"red\" og \"gold\" som farver\n",
        "\n",
        "plt.axis([0, 1200, 40, 100])\n",
        "plt.xlabel('tid')\n",
        "plt.ylabel('kr.')\n",
        "\n",
        "plt.plot(x_plot, pakke_1, color = \"red\") # pakke1\n",
        "plt.plot(x_plot, pakke_2, color = \"gold\") # pakke2\n"
      ],
      "metadata": {
        "colab": {
          "base_uri": "https://localhost:8080/",
          "height": 300
        },
        "id": "bvmF7zeD8jlt",
        "outputId": "a16bf1a6-c7e5-4be9-df57-e46ccf7abf9b"
      },
      "execution_count": null,
      "outputs": [
        {
          "output_type": "execute_result",
          "data": {
            "text/plain": [
              "[<matplotlib.lines.Line2D at 0x7f6957e30b50>]"
            ]
          },
          "metadata": {},
          "execution_count": 104
        },
        {
          "output_type": "display_data",
          "data": {
            "text/plain": [
              "<Figure size 432x288 with 1 Axes>"
            ],
            "image/png": "[encoded data removed]"
          },
          "metadata": {
            "needs_background": "light"
          }
        }
      ]
    },
    {
      "cell_type": "code",
      "source": [
        "# 1.3\n",
        "\n",
        "# Hvad er den taletid, hvor man i alt betaler det samme som kunde?\n",
        "\n",
        "# opstil ligningssystemet som augmented matrix \n",
        "# og løs ligningssystemet ved at omskrive til række echelon form. "
      ],
      "metadata": {
        "id": "kYsAiDLw0quE"
      },
      "execution_count": null,
      "outputs": []
    },
    {
      "cell_type": "code",
      "source": [
        "augmented = np.array([\n",
        "[0.06, -1, -44],\n",
        "[0.05, -1, -50]\n",
        "\n",
        "])"
      ],
      "metadata": {
        "id": "uviMTPO28xkD"
      },
      "execution_count": null,
      "outputs": []
    },
    {
      "cell_type": "code",
      "source": [
        "augmented[0] = augmented[0]/augmented[0,0]"
      ],
      "metadata": {
        "id": "8IvsN-MZCIdW"
      },
      "execution_count": null,
      "outputs": []
    },
    {
      "cell_type": "code",
      "source": [
        "augmented[1] = augmented[1] - augmented[1,0]*augmented[0]"
      ],
      "metadata": {
        "id": "JqHhMKSvCNaf"
      },
      "execution_count": null,
      "outputs": []
    },
    {
      "cell_type": "code",
      "source": [
        "augmented[1] = augmented[1] / augmented[1,1]"
      ],
      "metadata": {
        "id": "s2V7j5XUCNwS"
      },
      "execution_count": null,
      "outputs": []
    },
    {
      "cell_type": "code",
      "source": [
        "augmented[0] = augmented[0] - augmented[0,1]*augmented[1]"
      ],
      "metadata": {
        "id": "RCuVWCNMCPbA"
      },
      "execution_count": null,
      "outputs": []
    },
    {
      "cell_type": "code",
      "source": [
        "# print\n",
        "print(augmented)"
      ],
      "metadata": {
        "colab": {
          "base_uri": "https://localhost:8080/"
        },
        "id": "sodD69aQCQ9c",
        "outputId": "86c9c876-e3fe-4425-fc7a-7309da876394"
      },
      "execution_count": null,
      "outputs": [
        {
          "output_type": "stream",
          "name": "stdout",
          "text": [
            "[[  1.   0. 600.]\n",
            " [ -0.   1.  80.]]\n"
          ]
        }
      ]
    },
    {
      "cell_type": "markdown",
      "source": [
        "## 1.4 Ny pakke\n",
        "\n",
        "Der lanceres en ny pakke (pakke_3) med 0 kr. i månedsgebyr. Hvor meget skal det koste (tilnærmelsesvis) per minut for at opnå den samme samlede pris i ligevægt (der beregnes i 1.3)?\n",
        "\n",
        "Brug svar fra grafisk løsning (1.2), hvis du mangler svar i 1.3\n",
        "\n",
        "Plot ligningen, der beskriver pakke3 sammen med de 2 andre (pakke1 og pakke2)."
      ],
      "metadata": {
        "id": "C-ph-wE8Avq_"
      }
    },
    {
      "cell_type": "code",
      "source": [
        "80 / 600"
      ],
      "metadata": {
        "colab": {
          "base_uri": "https://localhost:8080/"
        },
        "id": "GGWw0tQpI1QW",
        "outputId": "60802530-9260-4cda-f6c7-3902f7cc2719"
      },
      "execution_count": null,
      "outputs": [
        {
          "output_type": "execute_result",
          "data": {
            "text/plain": [
              "0.13333333333333333"
            ]
          },
          "metadata": {},
          "execution_count": 100
        }
      ]
    },
    {
      "cell_type": "code",
      "source": [
        "pakke_3 = (80 / 600)*x_plot"
      ],
      "metadata": {
        "id": "Q6l7r3EzluRX"
      },
      "execution_count": null,
      "outputs": []
    },
    {
      "cell_type": "code",
      "source": [
        "# Plot\n",
        "plt.axis([0, 1200, 40, 100])\n",
        "plt.xlabel('tid')\n",
        "plt.ylabel('kr.')\n",
        "\n",
        "plt.plot(x_plot, pakke_1, color = \"red\") # pakke1\n",
        "plt.plot(x_plot, pakke_2, color = \"gold\") # pakke2\n",
        "plt.plot(x_plot, pakke_3, color = \"green\") # pakke3"
      ],
      "metadata": {
        "colab": {
          "base_uri": "https://localhost:8080/",
          "height": 300
        },
        "id": "iF27WrTSlkoz",
        "outputId": "827c14b1-1944-4f24-9b00-75325ad9df81"
      },
      "execution_count": null,
      "outputs": [
        {
          "output_type": "execute_result",
          "data": {
            "text/plain": [
              "[<matplotlib.lines.Line2D at 0x7f6957e24350>]"
            ]
          },
          "metadata": {},
          "execution_count": 105
        },
        {
          "output_type": "display_data",
          "data": {
            "text/plain": [
              "<Figure size 432x288 with 1 Axes>"
            ],
            "image/png": "[encoded data removed]"
          },
          "metadata": {
            "needs_background": "light"
          }
        }
      ]
    },
    {
      "cell_type": "markdown",
      "source": [
        "## 1.5 Ændring i Månedsgebyr\n",
        "Hvordan skal månedsgebyr for Pakke 2 (50kr/md og 5øre/min) ændres, således samlet pris vs pakke 1 er lige ved 500 minutters taletid?\n",
        "\n",
        "Brug matrix regning til at løse opgaven\n",
        "\n",
        "Du kan bruge følgende python objekter:\n",
        "\n",
        "\n",
        "*   $A$: `A`\n",
        "*   $\\vec{b_n}$: `vector_b_n`\n",
        "* $\\vec{x_n}$: `vector_x_n`"
      ],
      "metadata": {
        "id": "37lG0_fp7F72"
      }
    },
    {
      "cell_type": "code",
      "source": [
        "# Definer matrix A\n",
        "A = np.array([\n",
        "[0.06, -1],\n",
        "[0.05, -1]\n",
        "])"
      ],
      "metadata": {
        "id": "_BfPyntNJAkb"
      },
      "execution_count": null,
      "outputs": []
    },
    {
      "cell_type": "code",
      "source": [
        "# Beregn ligevægtspris ved 500 minutter\n",
        "0.06*500 + 44"
      ],
      "metadata": {
        "colab": {
          "base_uri": "https://localhost:8080/"
        },
        "id": "sliHNCJQKGNF",
        "outputId": "5ea68e98-b0a0-4c94-93bb-8e0732d77bdb"
      },
      "execution_count": null,
      "outputs": [
        {
          "output_type": "execute_result",
          "data": {
            "text/plain": [
              "74.0"
            ]
          },
          "metadata": {},
          "execution_count": 109
        }
      ]
    },
    {
      "cell_type": "code",
      "source": [
        "# definer vector x i ny ligevægt\n",
        "vector_x_n = np.array([[500],[74]])"
      ],
      "metadata": {
        "id": "vMRF2WlkKF5F"
      },
      "execution_count": null,
      "outputs": []
    },
    {
      "cell_type": "code",
      "source": [
        "# beregn ny vector b i ny ligevægt\n",
        "A @ vector_x_n"
      ],
      "metadata": {
        "colab": {
          "base_uri": "https://localhost:8080/"
        },
        "id": "n7H3CPDQKRvy",
        "outputId": "86240209-3367-4a17-9ff7-b50df31f821f"
      },
      "execution_count": null,
      "outputs": [
        {
          "output_type": "execute_result",
          "data": {
            "text/plain": [
              "array([[-44.],\n",
              "       [-49.]])"
            ]
          },
          "metadata": {},
          "execution_count": 112
        }
      ]
    },
    {
      "cell_type": "markdown",
      "source": [
        "#2 Investering\n",
        "\n",
        "Mathilde arver 210.000 kr. og efter at have set mange YouTube videoer om investering, fordeler hun penge mellem \n",
        "Aktier, ETFer og Investeringsforeninger.\n",
        "\n",
        "Efter et år har det givet følgende afkast: aktier 9.4%, ETF 4.6%, investeringsforeninger 4.25%. I alt tjener Mathilde 13360 kr. efter 1 år. Vi ved derudover, at der blev investeret $50000$ mere i ETF end Investeringsforeninger.\n",
        "\n",
        "Hvad var fordelingen i Mathildes portefølje?\n",
        "\n",
        "- Opstil 3 ligninger med 3 ubekendte\n",
        "- Omskriv til matrix ligning af type\n",
        "$A\\vec{x} = \\vec{b}$\n",
        "- Beregn $\\vec{x}$\n",
        "\n",
        "Du skal bruge følgende Python objekter:\n",
        "\n",
        "\n",
        "*   $A$: `A2`\n",
        "*   $A^{-1}$: `A2_inv`\n",
        "*   $\\vec{b}$: `vector_b2`\n",
        "* $\\vec{x}$: `vector_x2`"
      ],
      "metadata": {
        "id": "2Dl44OPXL3yF"
      }
    },
    {
      "cell_type": "code",
      "source": [
        "A2 = np.array([[1,1,1],\n",
        "             [0.094,0.046,0.0425],\n",
        "             [0,1,-1]])"
      ],
      "metadata": {
        "id": "Vp8gSialKuUq"
      },
      "execution_count": null,
      "outputs": []
    },
    {
      "cell_type": "code",
      "source": [
        "vector_b2 = np.array([210000,13360,50000]).reshape(-1,1)"
      ],
      "metadata": {
        "id": "8kfV1_UQMiI9"
      },
      "execution_count": null,
      "outputs": []
    },
    {
      "cell_type": "code",
      "source": [
        "np.linalg.inv(A2) @ vector_b2"
      ],
      "metadata": {
        "colab": {
          "base_uri": "https://localhost:8080/"
        },
        "id": "FGZOdc7NMkIw",
        "outputId": "5f93b962-4828-4831-abd7-dc92398c7fa3"
      },
      "execution_count": null,
      "outputs": [
        {
          "output_type": "execute_result",
          "data": {
            "text/plain": [
              "array([[80000.],\n",
              "       [90000.],\n",
              "       [40000.]])"
            ]
          },
          "metadata": {},
          "execution_count": 117
        }
      ]
    },
    {
      "cell_type": "markdown",
      "source": [
        "#3 Produktion\n",
        "\n",
        "En flyproducent vil bygge en ny produktionslinje til mindre passagerfly.\n",
        "\n",
        "Der bliver estimeret følgende funktion, som beskriver omkostninger for hver produceret maskine:\n",
        "\n",
        "$m(x) = 21x-5x^{0.75} +0.01x^2$\n",
        "\n",
        "Det vil koste 400 at etablere produktion af denne type fly.\n",
        "\n",
        "Efterspørgsel er estimeret til $p(x) = 330-7.8x$\n",
        "\n",
        "Derudover:\n",
        "\n",
        "- $ C(x) = m(x) + \\text{faste omkostninger} $\n",
        "- $ R(x) = p(x) · x $\n",
        "- Alle tal i mio USD\n",
        "- x: antal; p: pris"
      ],
      "metadata": {
        "id": "KuAKKo7UScK_"
      }
    },
    {
      "cell_type": "code",
      "source": [
        "# 3.1 Opstil ligninger for m(x), C(x), p(x) og R(x)\n",
        "# brug objekter: m_x; C_x; p_x; R_x"
      ],
      "metadata": {
        "id": "f7GaWnsIzngP"
      },
      "execution_count": null,
      "outputs": []
    },
    {
      "cell_type": "code",
      "source": [
        "# brug x og p symboler i denne opgave\n",
        "x,p = symbols('x,p')"
      ],
      "metadata": {
        "id": "8CJJu8L2Sc4p"
      },
      "execution_count": null,
      "outputs": []
    },
    {
      "cell_type": "code",
      "source": [
        "m_x = 21*x-5*x**0.75+0.01*x**2"
      ],
      "metadata": {
        "id": "88h-ibLyS5LY"
      },
      "execution_count": null,
      "outputs": []
    },
    {
      "cell_type": "code",
      "source": [
        "C_x = m_x + 400"
      ],
      "metadata": {
        "id": "Gai2rVueTHg8"
      },
      "execution_count": null,
      "outputs": []
    },
    {
      "cell_type": "code",
      "source": [
        "p_x = 330 - 7.8*x"
      ],
      "metadata": {
        "id": "KwWmTyw4TKKX"
      },
      "execution_count": null,
      "outputs": []
    },
    {
      "cell_type": "code",
      "source": [
        "R_x = p_x * x"
      ],
      "metadata": {
        "id": "t1qf8QyNTbv-"
      },
      "execution_count": null,
      "outputs": []
    },
    {
      "cell_type": "code",
      "source": [
        "R_x"
      ],
      "metadata": {
        "colab": {
          "base_uri": "https://localhost:8080/",
          "height": 39
        },
        "id": "-5mGFRwCCZ29",
        "outputId": "16b4f810-3e93-4381-ac55-86f33bbe161d"
      },
      "execution_count": null,
      "outputs": [
        {
          "output_type": "execute_result",
          "data": {
            "text/plain": [
              "x*(330 - 7.8*x)"
            ],
            "text/latex": "$\\displaystyle x \\left(330 - 7.8 x\\right)$"
          },
          "metadata": {},
          "execution_count": 127
        }
      ]
    },
    {
      "cell_type": "code",
      "source": [
        "C_x"
      ],
      "metadata": {
        "colab": {
          "base_uri": "https://localhost:8080/",
          "height": 39
        },
        "id": "-TdnVfQ7Cf5k",
        "outputId": "83b7ddcb-3966-4497-df4c-470e144f2e47"
      },
      "execution_count": null,
      "outputs": [
        {
          "output_type": "execute_result",
          "data": {
            "text/plain": [
              "-5*x**0.75 + 0.01*x**2 + 21*x + 400"
            ],
            "text/latex": "$\\displaystyle - 5 x^{0.75} + 0.01 x^{2} + 21 x + 400$"
          },
          "metadata": {},
          "execution_count": 128
        }
      ]
    },
    {
      "cell_type": "markdown",
      "source": [
        "* Marginalomkostninger $MC = C'(x)$ (omkostninger ved at producere +1 enhed)\n",
        "* Marginalindtægter $MR = R'(x)$ (indtægter ved at sælge +1 enhed)"
      ],
      "metadata": {
        "id": "sXpTtiCj0MZU"
      }
    },
    {
      "cell_type": "code",
      "source": [
        "# 3.2 Beregn MC og MR (sympy)"
      ],
      "metadata": {
        "id": "p5OPwfbh0I35"
      },
      "execution_count": null,
      "outputs": []
    },
    {
      "cell_type": "code",
      "source": [
        "MC = diff(C_x)"
      ],
      "metadata": {
        "id": "3cOvgRyNTjo1"
      },
      "execution_count": null,
      "outputs": []
    },
    {
      "cell_type": "code",
      "source": [
        "MR = diff(R_x)"
      ],
      "metadata": {
        "id": "muo3e7KUT2QF"
      },
      "execution_count": null,
      "outputs": []
    },
    {
      "cell_type": "code",
      "source": [
        "# 3.3 Beregn den profitoptimerende mængde og pris i monopol ved at løse MC = MR ligningen\n",
        "# Opstil først ligninger MC(x) = p og MR(x) = p som MC_eq og MR_eq ved at bruge \"Eq\" funktionen.\n",
        "\n",
        "# beregning af MC = MR med sympy kan tage lidt tid (~30sec)"
      ],
      "metadata": {
        "id": "g5-x68vG0eHZ"
      },
      "execution_count": null,
      "outputs": []
    },
    {
      "cell_type": "code",
      "source": [
        "MC_eq = Eq(MC,p)\n",
        "MR_eq = Eq(MR,p)"
      ],
      "metadata": {
        "id": "8jMf6sHnT4NB"
      },
      "execution_count": null,
      "outputs": []
    },
    {
      "cell_type": "code",
      "source": [
        "solve([MC_eq,MR_eq])"
      ],
      "metadata": {
        "colab": {
          "base_uri": "https://localhost:8080/"
        },
        "id": "TtibZNERUEO4",
        "outputId": "b66fc18d-1a49-401a-e96e-ee2738a4c84d"
      },
      "execution_count": null,
      "outputs": [
        {
          "output_type": "execute_result",
          "data": {
            "text/plain": [
              "[{p: 19.6223418742077, x: 19.8960037260123}]"
            ]
          },
          "metadata": {},
          "execution_count": 132
        }
      ]
    },
    {
      "cell_type": "markdown",
      "source": [
        "#4 Ekstrempunkter\n",
        "\n",
        "Du er givet følgende funktion:\n",
        "$F(x) = -\\frac{1}{5}  x^3 + 3x^2 - 5x+12 $\n",
        "\n",
        "OBS: `x`er stadigvæk et Sympy symbol og kan genbruges i denne opgave, hvor det skal bruges som en variable (ikke til plot)"
      ],
      "metadata": {
        "id": "sXFpXV9EWPu1"
      }
    },
    {
      "cell_type": "code",
      "source": [
        "# 4.1 Plot for x i [-10, 15]; brug objekter x_plot og y_plot; husk at lave nye x_plot via linspace (1000 værdier)\n",
        "\n",
        "x_plot = np.linspace(-10, 15, 1000)\n",
        "y_plot = -(1/5) * x_plot**3 + 3*x_plot**2 - 5*x_plot+12"
      ],
      "metadata": {
        "id": "w-OlEkniYqpV"
      },
      "execution_count": null,
      "outputs": []
    },
    {
      "cell_type": "code",
      "source": [
        "plt.plot(x_plot,y_plot)"
      ],
      "metadata": {
        "colab": {
          "base_uri": "https://localhost:8080/",
          "height": 282
        },
        "id": "yuE0_CljYuUg",
        "outputId": "295b822a-f9a1-4872-c3a7-2ab6c7ba8c2f"
      },
      "execution_count": null,
      "outputs": [
        {
          "output_type": "execute_result",
          "data": {
            "text/plain": [
              "[<matplotlib.lines.Line2D at 0x7f6957ef8290>]"
            ]
          },
          "metadata": {},
          "execution_count": 134
        },
        {
          "output_type": "display_data",
          "data": {
            "text/plain": [
              "<Figure size 432x288 with 1 Axes>"
            ],
            "image/png": "[encoded data removed]"
          },
          "metadata": {
            "needs_background": "light"
          }
        }
      ]
    },
    {
      "cell_type": "markdown",
      "source": [
        "## 4.2 Finde ekstrempunkter\n",
        "\n",
        "- Opstil ligning $F(x)$ som objekt `y`. Genbrug Sympy symbol (variabel) `x` fra opgave 3.\n",
        "- Beregn $F'(x)$ eller $y'$ (afledede $F(x)$) og x-værdier i de 2 ekstrempunkter\n",
        "\n",
        "- Brug en \"sign chart\" tilgang for at bestemme, om de to punkter er hhv. minimum/maksimum."
      ],
      "metadata": {
        "id": "7kvtVxq257vv"
      }
    },
    {
      "cell_type": "code",
      "source": [
        "y = -1/5 * x**3 + 6/2*x**2 - 5*x+12"
      ],
      "metadata": {
        "id": "f-COOIIiYw7u"
      },
      "execution_count": null,
      "outputs": []
    },
    {
      "cell_type": "code",
      "source": [
        "solve(diff(y),x)"
      ],
      "metadata": {
        "colab": {
          "base_uri": "https://localhost:8080/"
        },
        "id": "vfpBu51iZeQQ",
        "outputId": "a4f6caf6-f0cb-4c6b-ac9b-bfdd669ce120"
      },
      "execution_count": null,
      "outputs": [
        {
          "output_type": "execute_result",
          "data": {
            "text/plain": [
              "[0.917517095361370, 9.08248290463863]"
            ]
          },
          "metadata": {},
          "execution_count": 74
        }
      ]
    },
    {
      "cell_type": "code",
      "source": [
        "sign_chart = [0,0.917,5,9.08,11] "
      ],
      "metadata": {
        "id": "04Fma20eZey0"
      },
      "execution_count": null,
      "outputs": []
    },
    {
      "cell_type": "code",
      "source": [
        "[diff(y).subs(x,i) for i in sign_chart]"
      ],
      "metadata": {
        "colab": {
          "base_uri": "https://localhost:8080/"
        },
        "id": "__UFVIZIaPmb",
        "outputId": "75142191-08eb-4498-c80f-ea520fff0403"
      },
      "execution_count": null,
      "outputs": [
        {
          "output_type": "execute_result",
          "data": {
            "text/plain": [
              "[-5,\n",
              " -0.00253339999999946,\n",
              " 10.0000000000000,\n",
              " 0.0121600000000015,\n",
              " -11.6000000000000]"
            ]
          },
          "metadata": {},
          "execution_count": 76
        }
      ]
    },
    {
      "cell_type": "markdown",
      "source": [
        "## 4.3 - Find og plot tangentlinjen \n",
        "\n",
        "- Beregn den lineære ligning $t = mx+b$ der beskriver tangenten i $x_i = -5$\n",
        "- Du skal først finde $y_{i}$\n",
        "samt $m$ i $x_i$ og $b$\n"
      ],
      "metadata": {
        "id": "In2KwTXu51dT"
      }
    },
    {
      "cell_type": "code",
      "source": [
        "y.subs(x,-5)"
      ],
      "metadata": {
        "colab": {
          "base_uri": "https://localhost:8080/",
          "height": 38
        },
        "id": "czKq6khhaUvO",
        "outputId": "43422fab-6b0b-49be-e751-ce126e21907b"
      },
      "execution_count": null,
      "outputs": [
        {
          "output_type": "execute_result",
          "data": {
            "text/plain": [
              "137.000000000000"
            ],
            "text/latex": "$\\displaystyle 137.0$"
          },
          "metadata": {},
          "execution_count": 77
        }
      ]
    },
    {
      "cell_type": "code",
      "source": [
        "diff(y).subs(x,-5)"
      ],
      "metadata": {
        "colab": {
          "base_uri": "https://localhost:8080/",
          "height": 38
        },
        "id": "zxgoYRF5af_D",
        "outputId": "a44a99d6-9ff4-4c66-cba0-ea8ec7490b9a"
      },
      "execution_count": null,
      "outputs": [
        {
          "output_type": "execute_result",
          "data": {
            "text/plain": [
              "-50.0000000000000"
            ],
            "text/latex": "$\\displaystyle -50.0$"
          },
          "metadata": {},
          "execution_count": 78
        }
      ]
    },
    {
      "cell_type": "code",
      "source": [
        "b = 137 + 50*-5"
      ],
      "metadata": {
        "id": "LTZyynZkatxG"
      },
      "execution_count": null,
      "outputs": []
    },
    {
      "cell_type": "markdown",
      "source": [
        "## 4.4 Tangentligning og Plot\n",
        "plot $F(x)$ og $t(x)$ i $x = -5$\n",
        "OBS: Brug x_plot / y_plot her"
      ],
      "metadata": {
        "id": "kX-Y74Ul9xWP"
      }
    },
    {
      "cell_type": "code",
      "source": [
        "t = -50*x_plot+b"
      ],
      "metadata": {
        "id": "n0iwALbcbD4y"
      },
      "execution_count": null,
      "outputs": []
    },
    {
      "cell_type": "code",
      "source": [
        "plt.plot(x_plot,y_plot)\n",
        "plt.plot(x_plot,t)"
      ],
      "metadata": {
        "colab": {
          "base_uri": "https://localhost:8080/",
          "height": 282
        },
        "id": "cOhEc6pYbEQh",
        "outputId": "2994ef91-2d2a-4913-fe33-a707432e71de"
      },
      "execution_count": null,
      "outputs": [
        {
          "output_type": "execute_result",
          "data": {
            "text/plain": [
              "[<matplotlib.lines.Line2D at 0x7f6957fb5350>]"
            ]
          },
          "metadata": {},
          "execution_count": 84
        },
        {
          "output_type": "display_data",
          "data": {
            "text/plain": [
              "<Figure size 432x288 with 1 Axes>"
            ],
            "image/png": "[encoded data removed]"
          },
          "metadata": {
            "needs_background": "light"
          }
        }
      ]
    }
  ]
}